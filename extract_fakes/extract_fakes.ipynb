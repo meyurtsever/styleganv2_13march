{
 "cells": [
  {
   "cell_type": "code",
   "execution_count": 2,
   "metadata": {},
   "outputs": [],
   "source": [
    "import numpy as np\n",
    "import cv2\n",
    "import matplotlib.pyplot as plt"
   ]
  },
  {
   "cell_type": "code",
   "execution_count": 10,
   "metadata": {},
   "outputs": [],
   "source": [
    "img_glioma = cv2.imread('pituitary_fakes000120.png', 0) \n",
    "# plt.imshow(img_glioma, cmap='gray')"
   ]
  },
  {
   "cell_type": "code",
   "execution_count": 11,
   "metadata": {},
   "outputs": [],
   "source": [
    "base_x, base_y = img_glioma.shape"
   ]
  },
  {
   "cell_type": "code",
   "execution_count": 12,
   "metadata": {},
   "outputs": [],
   "source": [
    "iterative_x = 0\n",
    "iterative_y = 0\n",
    "h = 128\n",
    "w = 128\n",
    "ROI_number = 2048\n",
    "\n",
    "while iterative_y < 4096:\n",
    "    while iterative_x < 4096:\n",
    "        #if iterative_x < 4096:\n",
    "        ROI = img_glioma[iterative_y:iterative_y+h, iterative_x:iterative_x+w]\n",
    "        cv2.imwrite('ROI_{}.png'.format(ROI_number), ROI)\n",
    "        ROI_number += 1\n",
    "        iterative_x = iterative_x + w\n",
    "    iterative_y = iterative_y + h\n",
    "    iterative_x = 0\n",
    "        "
   ]
  },
  {
   "cell_type": "code",
   "execution_count": null,
   "metadata": {},
   "outputs": [],
   "source": []
  }
 ],
 "metadata": {
  "kernelspec": {
   "display_name": "base",
   "language": "python",
   "name": "python3"
  },
  "language_info": {
   "codemirror_mode": {
    "name": "ipython",
    "version": 3
   },
   "file_extension": ".py",
   "mimetype": "text/x-python",
   "name": "python",
   "nbconvert_exporter": "python",
   "pygments_lexer": "ipython3",
   "version": "3.8.5"
  },
  "orig_nbformat": 4
 },
 "nbformat": 4,
 "nbformat_minor": 2
}
